{
 "cells": [
  {
   "cell_type": "markdown",
   "metadata": {},
   "source": [
    "# Initialize"
   ]
  },
  {
   "cell_type": "code",
   "execution_count": 73,
   "metadata": {},
   "outputs": [],
   "source": [
    "from tqdm import tqdm\n",
    "from bs4 import BeautifulSoup\n",
    "import json\n",
    "from llm_helper import extract_imp_aspects, extract_aspect_ratings3\n",
    "import pandas as pd\n",
    "import time"
   ]
  },
  {
   "cell_type": "code",
   "execution_count": 74,
   "metadata": {},
   "outputs": [],
   "source": [
    "import os\n",
    "from dotenv import load_dotenv\n",
    "load_dotenv()\n",
    "\n",
    "OPENAI_API_KEY = os.getenv('OPENAI_API_KEY')"
   ]
  },
  {
   "cell_type": "code",
   "execution_count": 75,
   "metadata": {},
   "outputs": [],
   "source": [
    "from tqdm import tqdm\n",
    "from concurrent.futures import ThreadPoolExecutor\n",
    "import json\n",
    "import uuid\n",
    "import re"
   ]
  },
  {
   "cell_type": "code",
   "execution_count": 76,
   "metadata": {},
   "outputs": [],
   "source": [
    "def format_input(info):\n",
    "    return f\"\"\"{info['title']}: {info['content']}[Rating - {info['rating']}/5]\"\"\""
   ]
  },
  {
   "cell_type": "code",
   "execution_count": 80,
   "metadata": {},
   "outputs": [],
   "source": [
    "FILENAME = \"blackstove_36_3\"\n",
    "CATEGORY = \"grills\"\n",
    "\n",
    "# FILENAME = \"product\"\n",
    "# CATEGORY = \"grills\""
   ]
  },
  {
   "cell_type": "code",
   "execution_count": 81,
   "metadata": {},
   "outputs": [],
   "source": [
    "soup = BeautifulSoup(open(f'html/{FILENAME}.html').read(), \"lxml\")"
   ]
  },
  {
   "cell_type": "code",
   "execution_count": 82,
   "metadata": {},
   "outputs": [],
   "source": [
    "reviews = soup.find_all('div', attrs={'class' : 'ReviewRowstyles__ReviewRowWrapper-sc-1v62ao2-1 jcytau'})\n",
    "rating = [review.find('meta') for review in reviews]\n",
    "image = soup.find('img', attrs={'id':'imgZoom0'})\n",
    "image_link = re.search(r'src=\\\"(.*)\\\"', str(image)).group(1)\n",
    "title = soup.find('h1', {\"class\" :\"styles__H1-sc-11vpuyu-0 krJSUv typography variant--h1 align--left product-brand-description\"}).text\n",
    "item_id_str = soup.find('p', {\"class\": \"styles__ParagraphRegular-sc-1ljw3tp-0 doewXW typography variant--body_small align--left body_2\"}).text\n",
    "item_id = re.search(r'#(\\d+)', item_id_str).group(1)"
   ]
  },
  {
   "cell_type": "code",
   "execution_count": 83,
   "metadata": {},
   "outputs": [],
   "source": [
    "price_dollar = soup.find('span', {\"class\": \"item-price-dollar\"}).text\n",
    "price_cents = soup.find('span', {\"class\": \"PriceUIstyles__Cent-sc-14j12uk-0 bktBXX item-price-cent\"}).text\n",
    "price = str(price_dollar + price_cents).strip()"
   ]
  },
  {
   "cell_type": "code",
   "execution_count": 84,
   "metadata": {},
   "outputs": [],
   "source": [
    "with open(\"product_meta.json\", 'r') as fp:\n",
    "    data = json.load(fp)\n",
    "\n",
    "product_meta = {\n",
    "    \"product_id\" : item_id,\n",
    "    \"product_title\" : title,\n",
    "    \"product_image\" : image_link,\n",
    "    \"number_of_reviews\" : len(reviews),\n",
    "    \"product_category\" : CATEGORY,\n",
    "    \"product_price\" : price\n",
    "}\n",
    "p_id = [product[\"product_id\"] for product in data]\n",
    "if item_id in p_id:\n",
    "    pass\n",
    "else:\n",
    "    data.append(product_meta)    \n",
    "    with open(\"product_meta.json\", 'w') as fp:\n",
    "        json.dump(data, fp, indent=2)"
   ]
  },
  {
   "cell_type": "code",
   "execution_count": 85,
   "metadata": {},
   "outputs": [
    {
     "data": {
      "text/plain": [
       "{'product_id': '2582823',\n",
       " 'product_title': 'Blackstone 36\" Culinary Griddle with Hood 4-Burner Liquid Propane Flat Top Grill',\n",
       " 'product_image': 'https://mobileimages.lowes.com/productimages/c6fce411-41c3-4879-b402-7fc6c7ffe08f/67037864.png?size=mpdhi',\n",
       " 'number_of_reviews': 2220,\n",
       " 'product_category': 'grills',\n",
       " 'product_price': '$499.00'}"
      ]
     },
     "execution_count": 85,
     "metadata": {},
     "output_type": "execute_result"
    }
   ],
   "source": [
    "product_meta"
   ]
  },
  {
   "cell_type": "markdown",
   "metadata": {},
   "source": [
    "# Extract reviews"
   ]
  },
  {
   "cell_type": "code",
   "execution_count": 87,
   "metadata": {},
   "outputs": [
    {
     "data": {
      "text/plain": [
       "661"
      ]
     },
     "execution_count": 87,
     "metadata": {},
     "output_type": "execute_result"
    }
   ],
   "source": [
    "extracted_reviews = []\n",
    "rejected_reviews = []\n",
    "\n",
    "for i in range(len(reviews)):\n",
    "    if i%2 == 0:\n",
    "        title = reviews[i].find('p', attrs={'class': 'h1'}).text\n",
    "        try:\n",
    "            content = reviews[i].find('p', attrs={'itemprop': 'reviewBody'}).text\n",
    "            rating = reviews[i].find('meta', attrs={'itemprop': 'ratingValue'})['content']\n",
    "        \n",
    "            extracted_reviews.append({\n",
    "                \"title\": title,\n",
    "                \"content\": content,\n",
    "                \"rating\": rating\n",
    "            })\n",
    "        except:\n",
    "            rejected_reviews.append(i)        \n",
    "len(extracted_reviews)"
   ]
  },
  {
   "cell_type": "code",
   "execution_count": 88,
   "metadata": {},
   "outputs": [
    {
     "data": {
      "text/plain": [
       "{'title': 'Grill = great but issues with Lowe’s assembly x2',\n",
       " 'content': 'Love my Blackstone grill (eating 5/5) and the Lowe’s delivery service was punctual and provided great service (rating 5/5). \\nThe challenges with both deliveries were related to assembly. First grill was just sloppy assembly with bolts not fully tightened (they were actually falling out upon inspection) which caused damage to the frame assembly. Second delivery was better but grill was missing the stoppers which protect/eliminate direct, metal-on-metal contact between lid and body which caused heat resistant paint to chip. Rating for assembly and follow up service = 2/5\\nLowe’s promised a credit which has yet to be processed or confirmed. \\nMoral of the story…inspect your delivery closely and understand that the delivery team has nothing to do with assembly.',\n",
       " 'rating': '3'}"
      ]
     },
     "execution_count": 88,
     "metadata": {},
     "output_type": "execute_result"
    }
   ],
   "source": [
    "extracted_reviews[0]"
   ]
  },
  {
   "cell_type": "code",
   "execution_count": 89,
   "metadata": {},
   "outputs": [
    {
     "data": {
      "text/plain": [
       "{'grills': {'cooking_surface': 'The size and material of the cooking surface, including its heat distribution and non-stick properties.',\n",
       "  'portability': 'The ease of moving and transporting the griddle, including its weight, size, and any additional features like wheels or handles.',\n",
       "  'heat_control': 'The ability to adjust and control the temperature of the griddle for different cooking needs, including even heat distribution and consistent cooking results.',\n",
       "  'durability': 'The sturdiness and longevity of the griddle, including its materials, construction, and resistance to rust or corrosion.',\n",
       "  'accessories': \"The additional items included in the bundle, such as the cover, side shelves, or other tools that enhance the griddle's functionality and convenience.\"},\n",
       " 'lawn_movers': {'cutting_performance': 'The ability of the lawn mower to effectively cut grass with precision and consistency.',\n",
       "  'ease_of_use': 'How user-friendly and convenient the lawn mower is to operate, including features like self-propulsion and easy start.',\n",
       "  'durability': 'The longevity and sturdiness of the lawn mower, including the quality of materials used in its construction.',\n",
       "  'engine_power': 'The strength and performance of the engine in powering the lawn mower for efficient cutting.',\n",
       "  'maneuverability': 'How easily the lawn mower can navigate around obstacles and tight spaces in the yard.'}}"
      ]
     },
     "execution_count": 89,
     "metadata": {},
     "output_type": "execute_result"
    }
   ],
   "source": [
    "with open(\"category_aspects.json\", 'r') as fp:\n",
    "    data = json.load(fp)\n",
    "data"
   ]
  },
  {
   "cell_type": "markdown",
   "metadata": {},
   "source": [
    "# Review scoring"
   ]
  },
  {
   "cell_type": "code",
   "execution_count": 90,
   "metadata": {},
   "outputs": [],
   "source": [
    "if CATEGORY not in data:\n",
    "    aspects = extract_imp_aspects(product_meta['product_title'])\n",
    "    data[CATEGORY] = aspects\n",
    "    with open(\"category_aspects.json\", 'w') as fp:\n",
    "        json.dump(data, fp, indent=2)\n",
    "        print(\"saved\")\n",
    "aspects = data[CATEGORY]"
   ]
  },
  {
   "cell_type": "code",
   "execution_count": 91,
   "metadata": {},
   "outputs": [],
   "source": [
    "FILE_FOLDER = \"temp_csv\""
   ]
  },
  {
   "cell_type": "code",
   "execution_count": 92,
   "metadata": {},
   "outputs": [],
   "source": [
    "def make_batch(reviews:list, items_per_batch=10):\n",
    "    batches = []\n",
    "    number_of_batches = len(reviews)//items_per_batch + 1\n",
    "    for i in range(number_of_batches):\n",
    "        batches.append(reviews[i*items_per_batch: (i+1)*items_per_batch])\n",
    "    print(len(batches), \"batches created\")\n",
    "    return batches"
   ]
  },
  {
   "cell_type": "code",
   "execution_count": 93,
   "metadata": {},
   "outputs": [],
   "source": [
    "def merge_batches(files:list):\n",
    "    compiled_df = pd.DataFrame() \n",
    "    for file in files:\n",
    "        try:\n",
    "            df = pd.read_csv(FILE_FOLDER+f\"/{file}.csv\")\n",
    "            compiled_df = pd.concat([compiled_df, df])\n",
    "        except:\n",
    "            pass\n",
    "    \n",
    "    compiled_df.to_csv(f\"{product_meta['product_id']}.csv\", index=False)\n",
    "    print(\"Files merged and saved\")"
   ]
  },
  {
   "cell_type": "code",
   "execution_count": 94,
   "metadata": {},
   "outputs": [],
   "source": [
    "def process_batch(batch:list):\n",
    "    batch_review_ratings = []\n",
    "    unique_temp_filename = str(uuid.uuid1())\n",
    "    \n",
    "    for i, review in enumerate(batch):\n",
    "        try:\n",
    "            batch_review_rating = extract_aspect_ratings3(format_input(review), aspects, review['rating'])\n",
    "            batch_review_ratings.append(batch_review_rating)\n",
    "        except ConnectionError as e:\n",
    "            print(\"Connection lost\")\n",
    "            time.sleep(2)\n",
    "    \n",
    "    df_batch = pd.DataFrame(batch_review_ratings)\n",
    "\n",
    "    df_batch.to_csv(FILE_FOLDER+f\"/{unique_temp_filename}.csv\", index=False, header=True)\n",
    "    print(\"Batch complete\")\n",
    "    return unique_temp_filename "
   ]
  },
  {
   "cell_type": "code",
   "execution_count": 95,
   "metadata": {},
   "outputs": [],
   "source": [
    "result = []"
   ]
  },
  {
   "cell_type": "code",
   "execution_count": 96,
   "metadata": {},
   "outputs": [
    {
     "name": "stdout",
     "output_type": "stream",
     "text": [
      "23 batches created\n",
      "'NoneType' object has no attribute 'group'\n",
      "ASPECT: accessories\n",
      "1. The overall review is POSITIVE.\n",
      "2. The reviewer mentions the lid, the box, the basket for seasoning, and the assembling process as accessories.\n",
      "3. The reviewer's opinion on the accessories is MIXED, with some components being iffy but overall still functional.\n",
      "Batch complete\n",
      "Batch complete\n",
      "Batch complete\n",
      "Batch complete\n",
      "Batch complete\n",
      "Batch complete\n",
      "'NoneType' object has no attribute 'group'\n",
      "ASPECT: heat_control\n",
      "1. The overall review is NEGATIVE.\n",
      "2. The reviewer did not specifically mention the heat_control aspect of the product.\n",
      "3. The reviewer did not provide an opinion on the heat_control aspect.\n",
      "'NoneType' object has no attribute 'group'\n",
      "ASPECT: accessories\n",
      "1. The overall review is POSITIVE\n",
      "2. The reviewer does not mention any specific accessories included with the grill.\n",
      "3. The reviewer does not provide an opinion on the accessories.\n",
      "'NoneType' object has no attribute 'group'\n",
      "ASPECT: portability\n",
      "1. The overall review is POSITIVE\n",
      "2. The reviewer mentions that it took a bit to assemble the griddle and had to look at a picture for installation directions. They also mention ordering a cover for the griddle from Wayfair.\n",
      "3. The reviewer does not specifically mention their opinion on the portability of the griddle.\n",
      "'NoneType' object has no attribute 'group'\n",
      "ASPECT: accessories\n",
      "1. The overall review is POSITIVE\n",
      "2. The reviewer does not mention any accessories in the review.\n",
      "3. The reviewer does not provide an opinion on the accessories.\n",
      "Batch complete\n",
      "Batch complete\n",
      "Batch complete\n",
      "Batch complete\n",
      "Batch complete\n",
      "Batch complete\n",
      "'NoneType' object has no attribute 'group'\n",
      "ASPECT: accessories\n",
      "1. The overall review is POSITIVE.\n",
      "2. The reviewer mentions that the griddle is an excellent option if you want something other than a traditional grill and that it is awesome for various types of food.\n",
      "3. The reviewer does not specifically mention accessories in the review.\n",
      "'NoneType' object has no attribute 'group'\n",
      "ASPECT: durability\n",
      "1. The overall review is POSITIVE\n",
      "2. The reviewer mentions that the griddle top is heavy duty, but also points out that the hood is made of light gauge metal which flexes.\n",
      "3. The reviewer's opinion on durability is MIXED, as they appreciate the heavy duty griddle top but are concerned about the light gauge metal used for the hood.\n",
      "'NoneType' object has no attribute 'group'\n",
      "ASPECT: accessories\n",
      "1. The overall review is POSITIVE.\n",
      "2. The reviewer does not mention any specific accessories in the review.\n",
      "3. The reviewer does not provide an opinion on the accessories.\n",
      "'NoneType' object has no attribute 'group'\n",
      "ASPECT: heat_control\n",
      "1. The overall review is POSITIVE\n",
      "2. The reviewer mentions that the product has a very large cooking surface and is a great alternative to a traditional grill.\n",
      "3. The reviewer does not specifically mention the heat_control aspect of the product.\n",
      "Batch complete\n",
      "Batch complete\n",
      "Batch complete\n",
      "Batch complete\n",
      "Batch complete\n",
      "Batch complete\n",
      "Batch complete\n",
      "'NoneType' object has no attribute 'group'\n",
      "ASPECT: heat_control\n",
      "1. The overall review is POSITIVE\n",
      "2. The reviewer mentions using grill butter to season the grill and states that it \"Really works great!\"\n",
      "3. The reviewer does not specifically mention the heat_control aspect of the product/service.\n",
      "'NoneType' object has no attribute 'group'\n",
      "ASPECT: durability\n",
      "1. The overall review is POSITIVE.\n",
      "2. The reviewer mentions using the grill at least 10 times in 20 days, indicating frequent use.\n",
      "3. The reviewer does not specifically mention durability, but the fact that they have used the grill multiple times in a short period without any issues suggests a positive sentiment on durability.\n",
      "'NoneType' object has no attribute 'group'\n",
      "ASPECT: heat_control\n",
      "1. The overall review is POSITIVE\n",
      "2. The reviewer mentions that they were initially skeptical due to the price but purchased it after doing research and reading many reviews.\n",
      "3. The reviewer does not specifically mention the heat_control aspect in their review.\n",
      "Batch complete\n",
      "Batch complete\n",
      "Batch complete\n",
      "Batch complete\n"
     ]
    }
   ],
   "source": [
    "batches = make_batch(extracted_reviews,items_per_batch=30)\n",
    "with ThreadPoolExecutor(max_workers=6) as exe:\n",
    "    result = list(exe.map(process_batch, batches))"
   ]
  },
  {
   "cell_type": "code",
   "execution_count": 97,
   "metadata": {},
   "outputs": [
    {
     "name": "stdout",
     "output_type": "stream",
     "text": [
      "Files merged and saved\n"
     ]
    }
   ],
   "source": [
    "merge_batches(result)"
   ]
  },
  {
   "cell_type": "code",
   "execution_count": 2,
   "metadata": {},
   "outputs": [],
   "source": [
    "import pandas as pd"
   ]
  },
  {
   "cell_type": "code",
   "execution_count": 3,
   "metadata": {},
   "outputs": [],
   "source": [
    "df = pd.read_csv(\"data_files/2582823.csv\")"
   ]
  },
  {
   "cell_type": "code",
   "execution_count": 4,
   "metadata": {},
   "outputs": [
    {
     "data": {
      "text/plain": [
       "Index(['review_content', 'review_rating', 'raw_cooking_surface',\n",
       "       'overall_cooking_surface', 'cooking_surface_opinion', 'cooking_surface',\n",
       "       'raw_portability', 'overall_portability', 'portability_opinion',\n",
       "       'portability', 'raw_heat_control', 'overall_heat_control',\n",
       "       'heat_control_opinion', 'heat_control', 'raw_durability',\n",
       "       'overall_durability', 'durability_opinion', 'durability',\n",
       "       'raw_accessories', 'overall_accessories', 'accessories_opinion',\n",
       "       'accessories'],\n",
       "      dtype='object')"
      ]
     },
     "execution_count": 4,
     "metadata": {},
     "output_type": "execute_result"
    }
   ],
   "source": [
    "df.columns"
   ]
  },
  {
   "cell_type": "code",
   "execution_count": 5,
   "metadata": {},
   "outputs": [],
   "source": [
    "def change_mistake(response):\n",
    "    # print(response)\n",
    "    try:\n",
    "        pattern = r'POSITIVE|NEUTRAL|NEGATIVE|NOT MENTIONED|[nN]ot (specifically|directly )?[mM]ention(ed)?'\n",
    "        list_response = [x for x in response.split(\"\\n\") if x != '' if x != '\\n']\n",
    "        # print(list_response[1])\n",
    "        # answers = [re.search(pattern, ans).group() if i != 1 else ans[3:] for ans in list_response]\n",
    "        \n",
    "        return list_response[1][3:]\n",
    "    except:\n",
    "        return \"NA\""
   ]
  },
  {
   "cell_type": "code",
   "execution_count": 6,
   "metadata": {},
   "outputs": [],
   "source": [
    "for aspect in ['cooking_surface', 'portability', 'heat_control', 'durability', 'accessories']:\n",
    "    new = []\n",
    "    for item in list(df[f'raw_{aspect}']):\n",
    "        new.append(change_mistake(item))\n",
    "    df[f'{aspect}_opinion'] = new"
   ]
  },
  {
   "cell_type": "code",
   "execution_count": 7,
   "metadata": {},
   "outputs": [],
   "source": [
    "df.to_csv(\"data_files/2582823.csv\", index=False)"
   ]
  },
  {
   "cell_type": "code",
   "execution_count": 5,
   "metadata": {},
   "outputs": [],
   "source": [
    "import pandas as pd"
   ]
  },
  {
   "cell_type": "code",
   "execution_count": 14,
   "metadata": {},
   "outputs": [
    {
     "data": {
      "text/plain": [
       "600"
      ]
     },
     "execution_count": 14,
     "metadata": {},
     "output_type": "execute_result"
    }
   ],
   "source": [
    "df = pd.read_csv('data_files/5188090.csv')\n",
    "len(df)"
   ]
  },
  {
   "cell_type": "code",
   "execution_count": 15,
   "metadata": {},
   "outputs": [
    {
     "data": {
      "text/plain": [
       "566"
      ]
     },
     "execution_count": 15,
     "metadata": {},
     "output_type": "execute_result"
    }
   ],
   "source": [
    "df.dropna(inplace=True)\n",
    "len(df)"
   ]
  },
  {
   "cell_type": "code",
   "execution_count": 37,
   "metadata": {},
   "outputs": [],
   "source": [
    "index = [row for i,row in df.iterrows() if len(row['review_content'])<50]"
   ]
  },
  {
   "cell_type": "code",
   "execution_count": 39,
   "metadata": {},
   "outputs": [
    {
     "data": {
      "text/plain": [
       "review_content                          : Definitely worth it![Rating - 5/5]\n",
       "review_rating                                                              5\n",
       "raw_cooking_surface        1. The overall review is POSITIVE\\n2. The revi...\n",
       "overall_cooking_surface                                             POSITIVE\n",
       "cooking_surface_opinion    The reviewer mentions that the cooking_surface...\n",
       "cooking_surface                                                     POSITIVE\n",
       "raw_portability            1. The overall review is POSITIVE\\n2. The revi...\n",
       "overall_portability                                                 POSITIVE\n",
       "portability_opinion        The reviewer does not specifically mention por...\n",
       "portability                                                    NOT MENTIONED\n",
       "raw_heat_control           1. The overall review is POSITIVE\\n2. The revi...\n",
       "overall_heat_control                                                POSITIVE\n",
       "heat_control_opinion       The reviewer does not specifically mention hea...\n",
       "heat_control                                                   NOT MENTIONED\n",
       "raw_durability             1. The overall review is POSITIVE\\n2. The revi...\n",
       "overall_durability                                                  POSITIVE\n",
       "durability_opinion         The reviewer mentions that the griddle is defi...\n",
       "durability                                                          POSITIVE\n",
       "raw_accessories            1. The overall review is POSITIVE\\n2. The revi...\n",
       "overall_accessories                                                 POSITIVE\n",
       "accessories_opinion        The reviewer mentions that the accessories inc...\n",
       "accessories                                                         POSITIVE\n",
       "Name: 13, dtype: object"
      ]
     },
     "execution_count": 39,
     "metadata": {},
     "output_type": "execute_result"
    }
   ],
   "source": [
    "index[0]"
   ]
  },
  {
   "cell_type": "code",
   "execution_count": 40,
   "metadata": {},
   "outputs": [
    {
     "data": {
      "text/plain": [
       "pandas.core.series.Series"
      ]
     },
     "execution_count": 40,
     "metadata": {},
     "output_type": "execute_result"
    }
   ],
   "source": [
    "type(index[0])"
   ]
  },
  {
   "cell_type": "code",
   "execution_count": null,
   "metadata": {},
   "outputs": [],
   "source": []
  }
 ],
 "metadata": {
  "kernelspec": {
   "display_name": "synthetic_data",
   "language": "python",
   "name": "python3"
  },
  "language_info": {
   "codemirror_mode": {
    "name": "ipython",
    "version": 3
   },
   "file_extension": ".py",
   "mimetype": "text/x-python",
   "name": "python",
   "nbconvert_exporter": "python",
   "pygments_lexer": "ipython3",
   "version": "3.12.3"
  }
 },
 "nbformat": 4,
 "nbformat_minor": 2
}
